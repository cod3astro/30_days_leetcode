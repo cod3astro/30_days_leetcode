# Write a solution to create a DataFrame from a 2D list called student_data. This 2D list contains the IDs and ages of some students.

def createDataframe(student_data: List[List[int]]) -> pd.DataFrame:
   ids = [char[0] for char in student_data]
   ages = [char[1] for char in student_data]
   df = pd.DataFrame({'student_id': ids, 'age': ages})
   return df
